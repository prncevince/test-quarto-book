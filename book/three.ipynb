{
 "cells": [
  {
   "cell_type": "raw",
   "id": "f3ced817-3b63-4556-8921-fab96ba85259",
   "metadata": {},
   "source": [
    "---\n",
    "title: The Third\n",
    "---"
   ]
  },
  {
   "cell_type": "code",
   "execution_count": 1,
   "id": "f7b41515-a861-4051-8015-c62d79e09edd",
   "metadata": {},
   "outputs": [
    {
     "data": {
      "text/plain": [
       "2"
      ]
     },
     "execution_count": 1,
     "metadata": {},
     "output_type": "execute_result"
    }
   ],
   "source": [
    "1+1"
   ]
  },
  {
   "cell_type": "markdown",
   "id": "d53b77b9-a0da-4ae4-bc8c-f48fb6c799fb",
   "metadata": {},
   "source": [
    "## Tables"
   ]
  },
  {
   "cell_type": "code",
   "execution_count": 8,
   "id": "5c05da0e-d8ac-4d99-adc4-cf9e1d275b4c",
   "metadata": {},
   "outputs": [],
   "source": [
    "# has no effect\n",
    "pd.options.display.max_colwidth = 80"
   ]
  },
  {
   "cell_type": "code",
   "execution_count": 2,
   "id": "e50f3e20-c4d6-45d7-b3e0-5554c3c8c1ab",
   "metadata": {},
   "outputs": [],
   "source": [
    "import pandas as pd\n",
    "from IPython.display import HTML"
   ]
  },
  {
   "cell_type": "code",
   "execution_count": 9,
   "id": "1a41dd95-4aaa-45c8-ad1f-d9e25c97520a",
   "metadata": {},
   "outputs": [
    {
     "data": {
      "text/html": [
       "<table border=\"1\" class=\"dataframe\">\n",
       "  <thead>\n",
       "    <tr style=\"text-align: right;\">\n",
       "      <th>x</th>\n",
       "      <th>y</th>\n",
       "    </tr>\n",
       "  </thead>\n",
       "  <tbody>\n",
       "    <tr>\n",
       "      <td>1</td>\n",
       "      <td>2</td>\n",
       "    </tr>\n",
       "  </tbody>\n",
       "</table>"
      ],
      "text/plain": [
       "<IPython.core.display.HTML object>"
      ]
     },
     "execution_count": 9,
     "metadata": {},
     "output_type": "execute_result"
    }
   ],
   "source": [
    "d = pd.DataFrame({'x':[1], 'y':[2]})\n",
    "# still styled to full width of page b/c boostrap styles .table {width: 100%}\n",
    "HTML(d.style()to_html(index=False).)"
   ]
  },
  {
   "cell_type": "code",
   "execution_count": 7,
   "id": "0cf3f41a-09d9-493d-9bc6-fd75e33ec428",
   "metadata": {},
   "outputs": [
    {
     "name": "stdout",
     "output_type": "stream",
     "text": [
      " x  y\n",
      " 1  2\n"
     ]
    }
   ],
   "source": [
    "print(d.to_string(index=False))"
   ]
  }
 ],
 "metadata": {
  "kernelspec": {
   "display_name": "Python 3 (ipykernel)",
   "language": "python",
   "name": "python3"
  },
  "language_info": {
   "codemirror_mode": {
    "name": "ipython",
    "version": 3
   },
   "file_extension": ".py",
   "mimetype": "text/x-python",
   "name": "python",
   "nbconvert_exporter": "python",
   "pygments_lexer": "ipython3",
   "version": "3.11.5"
  },
  "widgets": {
   "application/vnd.jupyter.widget-state+json": {
    "state": {},
    "version_major": 2,
    "version_minor": 0
   }
  }
 },
 "nbformat": 4,
 "nbformat_minor": 5
}
